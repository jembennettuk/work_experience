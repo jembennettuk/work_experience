{
 "cells": [
  {
   "cell_type": "markdown",
   "metadata": {},
   "source": [
    "## Install software\n",
    "Please make sure you only run this cell at the correct stage of the setup. \n",
    "\n",
    "You can run a code cells by bringing it into focus (e.g. clicking in it) and pressing \"ctrl+Enter\"."
   ]
  },
  {
   "cell_type": "code",
   "execution_count": null,
   "metadata": {},
   "outputs": [],
   "source": [
    "import sys\n",
    "!python -m pip install torch torchvision torchaudio --index-url https://download.pytorch.org/whl/cu118\n",
    "!python -m pip install pandas\n",
    "!python -m pip install -U scikit-learn\n",
    "!python -m pip install -U matplotlib\n",
    "!python -m pip install opencv-contrib-python"
   ]
  },
  {
   "cell_type": "markdown",
   "metadata": {},
   "source": [
    "## Unzip data\n",
    "The data files you downloaded are compressed as a zip file. Run the following code cell to unzip them so that the data can be imported."
   ]
  },
  {
   "cell_type": "code",
   "execution_count": null,
   "metadata": {},
   "outputs": [],
   "source": [
    "!PowerShell.exe -Command \"Expand-Archive -Path \\\"\\\\smbhome.uscs.susx.ac.uk\\jb739\\Desktop\\work_experience\\face_images.npz.zip\\\" -DestinationPath \\\"\\\\smbhome.uscs.susx.ac.uk\\jb739\\Desktop\\work_experience\\\\\"\"\n",
    "!PowerShell.exe -Command \"Expand-Archive -Path \\\"\\\\smbhome.uscs.susx.ac.uk\\jb739\\Desktop\\work_experience\\facial_keypoints.csv.zip\\\" -DestinationPath \\\"\\\\smbhome.uscs.susx.ac.uk\\jb739\\Desktop\\work_experience\\\\\"\""
   ]
  },
  {
   "cell_type": "markdown",
   "metadata": {},
   "source": [
    "## Set hyperparameters"
   ]
  },
  {
   "cell_type": "code",
   "execution_count": 58,
   "metadata": {},
   "outputs": [],
   "source": [
    "### Parameters to be modified\n",
    "batchSize = 32\n",
    "nFeatures = 4\n",
    "learningRate = 0.01\n",
    "weightDecay = 0.0001\n",
    "num_epochs = 10\n",
    "trainSplit = 0.1"
   ]
  },
  {
   "cell_type": "markdown",
   "metadata": {},
   "source": [
    "## Import libraries"
   ]
  },
  {
   "cell_type": "code",
   "execution_count": 76,
   "metadata": {},
   "outputs": [
    {
     "name": "stdout",
     "output_type": "stream",
     "text": [
      "Using device: cuda\n"
     ]
    }
   ],
   "source": [
    "import torch\n",
    "import torch.nn as nn\n",
    "import torch.optim as optim\n",
    "import torchvision.models as models\n",
    "import torchvision.transforms as tf\n",
    "import numpy as np\n",
    "import pandas as pd\n",
    "from sklearn.model_selection import train_test_split\n",
    "import matplotlib.pyplot as plt\n",
    "from torch.utils.data import DataLoader, TensorDataset\n",
    "import cv2\n",
    "device = torch.device('cuda' if torch.cuda.is_available() else 'cpu')\n",
    "print(f'Using device: {device}')"
   ]
  },
  {
   "cell_type": "markdown",
   "metadata": {},
   "source": [
    "## Load data"
   ]
  },
  {
   "cell_type": "code",
   "execution_count": 60,
   "metadata": {},
   "outputs": [],
   "source": [
    "# Load and preprocess data\n",
    "npz_file = './face_images.npz'\n",
    "csv_file = './facial_keypoints.csv'\n",
    "\n",
    "data = np.load(npz_file)\n",
    "images = data['face_images']  # assuming images are stored under 'images' key\n",
    "coordinates = np.array(pd.read_csv(csv_file).values)\n",
    "\n",
    "# Reshape image data\n",
    "images = np.transpose(images, (2, 0, 1))\n",
    "\n",
    "# Find samples that have at coordinates for centres of both eyes\n",
    "keep_ix = np.logical_not(np.isnan(coordinates[:,:nFeatures])).all(axis=1)\n",
    "images = images[keep_ix,:]\n",
    "coordinates = coordinates[keep_ix,:nFeatures]\n",
    "\n",
    "# Normalize images\n",
    "for j in range(np.shape(images)[0]):\n",
    "    images[j,:] = (images[j,:] - images[j,:].mean()) / images[j,:].std()\n",
    "\n",
    "# Reshape images to (num_samples, 1, height, width) if necessary\n",
    "if len(images.shape) == 3:\n",
    "    images = images[:, np.newaxis, :, :]\n",
    "\n",
    "# Convert to PyTorch tensors\n",
    "images_tensor = torch.tensor(images, dtype=torch.float32)\n",
    "coordinates_tensor = torch.tensor(coordinates, dtype=torch.float32)\n",
    "\n",
    "# Split the data\n",
    "train_images, test_images, train_coords, test_coords = train_test_split(\n",
    "    images_tensor, coordinates_tensor, test_size=(1.0-trainSplit), random_state=42)\n",
    "\n",
    "train_dataset = TensorDataset(train_images, train_coords)\n",
    "test_dataset = TensorDataset(test_images, test_coords)\n",
    "\n",
    "train_loader = DataLoader(train_dataset, batch_size=batchSize, shuffle=True)\n",
    "test_loader = DataLoader(test_dataset, batch_size=batchSize, shuffle=True)"
   ]
  },
  {
   "cell_type": "markdown",
   "metadata": {},
   "source": [
    "## Create Convolutional Neural Network model"
   ]
  },
  {
   "cell_type": "code",
   "execution_count": 67,
   "metadata": {},
   "outputs": [],
   "source": [
    "# Create a convolutional neural network\n",
    "class CNN(nn.Module):\n",
    "    def __init__(self):\n",
    "        super(CNN, self).__init__()\n",
    "        self.conv1 = nn.Conv2d(1, 32, kernel_size=5, padding=2)\n",
    "        self.conv2 = nn.Conv2d(32, 64, kernel_size=5, padding=2)\n",
    "        self.conv3 = nn.Conv2d(64, 128, kernel_size=5, padding=2)\n",
    "        self.conv4 = nn.Conv2d(128, 64, kernel_size=5, padding=2)\n",
    "        self.conv5 = nn.Conv2d(64, 32, kernel_size=5, padding=2)\n",
    "        self.fc1 = nn.Linear(32, nFeatures)  # assuming input images are 32x32\n",
    "\n",
    "    def forward(self, x):\n",
    "        x = torch.relu(self.conv1(x))\n",
    "        x = torch.max_pool2d(x, 2)\n",
    "        x = torch.relu(self.conv2(x))\n",
    "        x = torch.max_pool2d(x, 2)\n",
    "        x = torch.relu(self.conv3(x))\n",
    "        x = torch.max_pool2d(x, 2)\n",
    "        x = torch.relu(self.conv4(x))\n",
    "        x = torch.max_pool2d(x, 2)\n",
    "        x = torch.relu(self.conv5(x))\n",
    "        x = x.mean(3).mean(2) # Global average pooling\n",
    "        x = torch.relu(self.fc1(x))\n",
    "        return x\n",
    "\n",
    "model = CNN()"
   ]
  },
  {
   "cell_type": "code",
   "execution_count": 74,
   "metadata": {},
   "outputs": [
    {
     "name": "stderr",
     "output_type": "stream",
     "text": [
      "c:\\Program Files\\Python311\\Lib\\site-packages\\torchvision\\models\\_utils.py:208: UserWarning: The parameter 'pretrained' is deprecated since 0.13 and may be removed in the future, please use 'weights' instead.\n",
      "  warnings.warn(\n",
      "c:\\Program Files\\Python311\\Lib\\site-packages\\torchvision\\models\\_utils.py:223: UserWarning: Arguments other than a weight enum or `None` for 'weights' are deprecated since 0.13 and may be removed in the future. The current behavior is equivalent to passing `weights=ResNet18_Weights.IMAGENET1K_V1`. You can also use `weights=ResNet18_Weights.DEFAULT` to get the most up-to-date weights.\n",
      "  warnings.warn(msg)\n",
      "Downloading: \"https://download.pytorch.org/models/resnet18-f37072fd.pth\" to C:\\Users\\jb739/.cache\\torch\\hub\\checkpoints\\resnet18-f37072fd.pth\n",
      "100.0%\n"
     ]
    }
   ],
   "source": [
    "# Load the pretrained ResNet-18 model\n",
    "resnet18 = models.resnet18(pretrained=True)\n",
    "\n",
    "# Remove the last fully connected layer\n",
    "resnet18 = nn.Sequential(*list(resnet18.children())[:-1])\n",
    "\n",
    "# Define the new fully connected layers\n",
    "class ModifiedResNet18(nn.Module):\n",
    "    def __init__(self):\n",
    "        super(ModifiedResNet18, self).__init__()\n",
    "        self.resnet18 = resnet18\n",
    "        self.fc1 = nn.Linear(512, 256)\n",
    "        self.fc2 = nn.Linear(256, 128)\n",
    "        self.fc3 = nn.Linear(128, nFeatures)  # Assuming 3 output classes\n",
    "    \n",
    "    def forward(self, x):\n",
    "        x = self.resnet18(x)\n",
    "        x = torch.flatten(x, 1)\n",
    "        x = self.fc1(x)\n",
    "        x = nn.ReLU()(x)\n",
    "        x = self.fc2(x)\n",
    "        x = nn.ReLU()(x)\n",
    "        x = self.fc3(x)\n",
    "        return x\n",
    "\n",
    "# Create an instance of the modified model\n",
    "model = ModifiedResNet18()"
   ]
  },
  {
   "cell_type": "markdown",
   "metadata": {},
   "source": [
    "## Train the model on the data"
   ]
  },
  {
   "cell_type": "code",
   "execution_count": 89,
   "metadata": {},
   "outputs": [
    {
     "data": {
      "text/plain": [
       "torch.Size([96, 96])"
      ]
     },
     "execution_count": 89,
     "metadata": {},
     "output_type": "execute_result"
    }
   ],
   "source": [
    "transform(data[0])\n",
    "data[0][0,0,:,:].shape"
   ]
  },
  {
   "cell_type": "code",
   "execution_count": 91,
   "metadata": {},
   "outputs": [
    {
     "name": "stdout",
     "output_type": "stream",
     "text": [
      "Episode 4/22, Epoch 0/10, Train Loss: 51.6645, Test Loss: 7815081.6000\n",
      "Episode 9/22, Epoch 0/10, Train Loss: 19.0435, Test Loss: 1876896.4000\n",
      "Episode 14/22, Epoch 0/10, Train Loss: 12.8617, Test Loss: 112516.0500\n",
      "Episode 19/22, Epoch 0/10, Train Loss: 15.6199, Test Loss: 14506.0391\n",
      "Episode 2/22, Epoch 1/10, Train Loss: 11.3716, Test Loss: 2052.6932\n",
      "Episode 7/22, Epoch 1/10, Train Loss: 13.0010, Test Loss: 903.9458\n",
      "Episode 12/22, Epoch 1/10, Train Loss: 11.4204, Test Loss: 402.5754\n",
      "Episode 17/22, Epoch 1/10, Train Loss: 11.3500, Test Loss: 169.0033\n",
      "Episode 0/22, Epoch 2/10, Train Loss: 12.4862, Test Loss: 141.7527\n",
      "Episode 5/22, Epoch 2/10, Train Loss: 16.0071, Test Loss: 73.5118\n",
      "Episode 10/22, Epoch 2/10, Train Loss: 15.2401, Test Loss: 50.4419\n",
      "Episode 15/22, Epoch 2/10, Train Loss: 18.4213, Test Loss: 68.8205\n",
      "Episode 20/22, Epoch 2/10, Train Loss: 14.7189, Test Loss: 58.1424\n",
      "Episode 3/22, Epoch 3/10, Train Loss: 16.8356, Test Loss: 48.5611\n",
      "Episode 8/22, Epoch 3/10, Train Loss: 17.3108, Test Loss: 81.6745\n",
      "Episode 13/22, Epoch 3/10, Train Loss: 12.6427, Test Loss: 62.3612\n",
      "Episode 18/22, Epoch 3/10, Train Loss: 17.2482, Test Loss: 68.1330\n",
      "Episode 1/22, Epoch 4/10, Train Loss: 17.9950, Test Loss: 61.3718\n",
      "Episode 6/22, Epoch 4/10, Train Loss: 14.8209, Test Loss: 57.3808\n",
      "Episode 11/22, Epoch 4/10, Train Loss: 9.9375, Test Loss: 62.8944\n",
      "Episode 16/22, Epoch 4/10, Train Loss: 8.5361, Test Loss: 55.8541\n",
      "Episode 21/22, Epoch 4/10, Train Loss: 9.9036, Test Loss: 56.5033\n",
      "Episode 4/22, Epoch 5/10, Train Loss: 8.9057, Test Loss: 53.0599\n",
      "Episode 9/22, Epoch 5/10, Train Loss: 12.6689, Test Loss: 55.5080\n",
      "Episode 14/22, Epoch 5/10, Train Loss: 8.9365, Test Loss: 51.7440\n",
      "Episode 19/22, Epoch 5/10, Train Loss: 9.0126, Test Loss: 57.9816\n",
      "Episode 2/22, Epoch 6/10, Train Loss: 11.3398, Test Loss: 50.7155\n",
      "Episode 7/22, Epoch 6/10, Train Loss: 7.9315, Test Loss: 55.9560\n",
      "Episode 12/22, Epoch 6/10, Train Loss: 10.0202, Test Loss: 55.9653\n",
      "Episode 17/22, Epoch 6/10, Train Loss: 10.7017, Test Loss: 54.8916\n",
      "Episode 0/22, Epoch 7/10, Train Loss: 8.2581, Test Loss: 58.5866\n",
      "Episode 5/22, Epoch 7/10, Train Loss: 7.3913, Test Loss: 56.7238\n",
      "Episode 10/22, Epoch 7/10, Train Loss: 9.3498, Test Loss: 60.0118\n",
      "Episode 15/22, Epoch 7/10, Train Loss: 9.8002, Test Loss: 56.5138\n",
      "Episode 20/22, Epoch 7/10, Train Loss: 6.3855, Test Loss: 56.9168\n",
      "Episode 3/22, Epoch 8/10, Train Loss: 6.6003, Test Loss: 54.5891\n",
      "Episode 8/22, Epoch 8/10, Train Loss: 8.1606, Test Loss: 58.5739\n",
      "Episode 13/22, Epoch 8/10, Train Loss: 7.3599, Test Loss: 61.8886\n",
      "Episode 18/22, Epoch 8/10, Train Loss: 8.6103, Test Loss: 55.4379\n",
      "Episode 1/22, Epoch 9/10, Train Loss: 5.8174, Test Loss: 59.5243\n",
      "Episode 6/22, Epoch 9/10, Train Loss: 6.8678, Test Loss: 58.1334\n",
      "Episode 11/22, Epoch 9/10, Train Loss: 7.2345, Test Loss: 60.0295\n",
      "Episode 16/22, Epoch 9/10, Train Loss: 7.7060, Test Loss: 56.5622\n",
      "Episode 21/22, Epoch 9/10, Train Loss: 8.9715, Test Loss: 56.3989\n"
     ]
    }
   ],
   "source": [
    "# Train the model\n",
    "criterion = nn.L1Loss()\n",
    "optimizer = optim.Adam(model.parameters(), lr=learningRate, weight_decay=weightDecay)\n",
    "\n",
    "train_loss = 0.0\n",
    "test_loss = 0.0\n",
    "train_losses = []\n",
    "test_losses = []\n",
    "episode_counter = 0\n",
    "loss_counter = 0\n",
    "nDropLR = 0.0\n",
    "nSmoothLoss = 5\n",
    "transform = tf.Resize((224,224))\n",
    "\n",
    "for epoch in range(num_epochs):\n",
    "    for episode,data in enumerate(train_loader):\n",
    "        # Train \n",
    "        model.train()\n",
    "        images = transform(data[0]).repeat(1,3,1,1)\n",
    "        coords = data[1] * 7.0 / 3.0\n",
    "        optimizer.zero_grad()\n",
    "        outputs = model(images)\n",
    "        loss = criterion(outputs, coords)\n",
    "        loss.backward()\n",
    "        optimizer.step()\n",
    "        train_loss += loss * images.size(0) / batchSize\n",
    "        if np.mod(episode_counter,nSmoothLoss)==(nSmoothLoss-1):\n",
    "            train_losses.append(train_loss.detach().numpy()/float(nSmoothLoss))  \n",
    "            train_loss = 0.0\n",
    "        \n",
    "        # Evaluate\n",
    "        model.eval()\n",
    "        with torch.no_grad():\n",
    "            rand_ix = torch.randint(low=0,high=len(test_loader.dataset),size=[batchSize])\n",
    "            images = transform(test_loader.dataset[rand_ix][0]).repeat(1,3,1,1)\n",
    "            coords = test_loader.dataset[rand_ix][1]\n",
    "            outputs = model(images)\n",
    "            loss = criterion(outputs, coords)\n",
    "            test_loss += loss * images.size(0) / batchSize\n",
    "            if np.mod(episode_counter,nSmoothLoss)==(nSmoothLoss-1):\n",
    "                test_losses.append(test_loss.detach().numpy()/float(nSmoothLoss))  \n",
    "                test_loss = 0.0\n",
    "                loss_counter += 1\n",
    "                print(f'Episode {episode}/{len(train_loader)}, Epoch {epoch}/{num_epochs}, Train Loss: {train_losses[-1]:.4f}, Test Loss: {test_losses[-1]:.4f}')\n",
    "\n",
    "        episode_counter += 1\n",
    "        # if np.mod(episode_counter,50)==49:\n",
    "        #     optimizer.param_groups[0]['lr'] = learningRate / (5.0**nDropLR)\n",
    "        #     nDropLR += 1.0\n",
    "        #     print(f'LR = {nDropLR}')"
   ]
  },
  {
   "cell_type": "code",
   "execution_count": 69,
   "metadata": {},
   "outputs": [],
   "source": [
    "### Save your trained model\n",
    "torch.save(model.state_dict(), './model_trained')"
   ]
  },
  {
   "cell_type": "markdown",
   "metadata": {},
   "source": [
    "## Plot the Loss throughout training"
   ]
  },
  {
   "cell_type": "code",
   "execution_count": 92,
   "metadata": {},
   "outputs": [
    {
     "data": {
      "image/png": "[encoded data removed]",
      "text/plain": [
       "<Figure size 1000x500 with 1 Axes>"
      ]
     },
     "metadata": {},
     "output_type": "display_data"
    }
   ],
   "source": [
    "# Plot the losses\n",
    "plt.figure(figsize=(10,5))\n",
    "plt.plot(train_losses, label='Train Loss')\n",
    "plt.plot(test_losses, label='Test Loss')\n",
    "plt.xlabel('Episode')\n",
    "plt.ylabel('Loss')\n",
    "plt.legend()\n",
    "plt.show()\n",
    "## MOST RECENT"
   ]
  },
  {
   "cell_type": "markdown",
   "metadata": {},
   "source": [
    "## Visualise how well the NN predicts feature locations"
   ]
  },
  {
   "cell_type": "code",
   "execution_count": 103,
   "metadata": {},
   "outputs": [
    {
     "ename": "RuntimeError",
     "evalue": "Given groups=1, weight of size [64, 3, 7, 7], expected input[1, 1, 96, 96] to have 3 channels, but got 1 channels instead",
     "output_type": "error",
     "traceback": [
      "\u001b[1;31m---------------------------------------------------------------------------\u001b[0m",
      "\u001b[1;31mRuntimeError\u001b[0m                              Traceback (most recent call last)",
      "Cell \u001b[1;32mIn[103], line 21\u001b[0m\n\u001b[0;32m     18\u001b[0m y_true_coords \u001b[38;5;241m=\u001b[39m np\u001b[38;5;241m.\u001b[39marray(test_coords[curr_ind,\u001b[38;5;241m1\u001b[39m::\u001b[38;5;241m2\u001b[39m]\u001b[38;5;241m.\u001b[39mtolist())\n\u001b[0;32m     20\u001b[0m \u001b[38;5;28;01mwith\u001b[39;00m torch\u001b[38;5;241m.\u001b[39mno_grad():\n\u001b[1;32m---> 21\u001b[0m     output \u001b[38;5;241m=\u001b[39m \u001b[43mmodel\u001b[49m\u001b[43m(\u001b[49m\u001b[43mtest_images\u001b[49m\u001b[43m[\u001b[49m\u001b[43mcurr_ind\u001b[49m\u001b[43m,\u001b[49m\u001b[38;5;241;43m0\u001b[39;49m\u001b[43m,\u001b[49m\u001b[43m:\u001b[49m\u001b[43m,\u001b[49m\u001b[43m:\u001b[49m\u001b[43m]\u001b[49m\u001b[38;5;241;43m.\u001b[39;49m\u001b[43mreshape\u001b[49m\u001b[43m(\u001b[49m\u001b[38;5;241;43m1\u001b[39;49m\u001b[43m,\u001b[49m\u001b[38;5;241;43m1\u001b[39;49m\u001b[43m,\u001b[49m\u001b[43mtest_images\u001b[49m\u001b[38;5;241;43m.\u001b[39;49m\u001b[43mshape\u001b[49m\u001b[43m[\u001b[49m\u001b[38;5;241;43m2\u001b[39;49m\u001b[43m]\u001b[49m\u001b[43m,\u001b[49m\u001b[43mtest_images\u001b[49m\u001b[38;5;241;43m.\u001b[39;49m\u001b[43mshape\u001b[49m\u001b[43m[\u001b[49m\u001b[38;5;241;43m3\u001b[39;49m\u001b[43m]\u001b[49m\u001b[43m)\u001b[49m\u001b[43m)\u001b[49m\n\u001b[0;32m     22\u001b[0m     x_pred_coords \u001b[38;5;241m=\u001b[39m output\u001b[38;5;241m.\u001b[39mdetach()\u001b[38;5;241m.\u001b[39mnumpy()[\u001b[38;5;241m0\u001b[39m][\u001b[38;5;241m0\u001b[39m::\u001b[38;5;241m2\u001b[39m]\u001b[38;5;241m.\u001b[39mtolist()\n\u001b[0;32m     23\u001b[0m     y_pred_coords \u001b[38;5;241m=\u001b[39m output\u001b[38;5;241m.\u001b[39mdetach()\u001b[38;5;241m.\u001b[39mnumpy()[\u001b[38;5;241m0\u001b[39m][\u001b[38;5;241m1\u001b[39m::\u001b[38;5;241m2\u001b[39m]\u001b[38;5;241m.\u001b[39mtolist()\n",
      "File \u001b[1;32mc:\\Program Files\\Python311\\Lib\\site-packages\\torch\\nn\\modules\\module.py:1532\u001b[0m, in \u001b[0;36mModule._wrapped_call_impl\u001b[1;34m(self, *args, **kwargs)\u001b[0m\n\u001b[0;32m   1530\u001b[0m     \u001b[38;5;28;01mreturn\u001b[39;00m \u001b[38;5;28mself\u001b[39m\u001b[38;5;241m.\u001b[39m_compiled_call_impl(\u001b[38;5;241m*\u001b[39margs, \u001b[38;5;241m*\u001b[39m\u001b[38;5;241m*\u001b[39mkwargs)  \u001b[38;5;66;03m# type: ignore[misc]\u001b[39;00m\n\u001b[0;32m   1531\u001b[0m \u001b[38;5;28;01melse\u001b[39;00m:\n\u001b[1;32m-> 1532\u001b[0m     \u001b[38;5;28;01mreturn\u001b[39;00m \u001b[38;5;28;43mself\u001b[39;49m\u001b[38;5;241;43m.\u001b[39;49m\u001b[43m_call_impl\u001b[49m\u001b[43m(\u001b[49m\u001b[38;5;241;43m*\u001b[39;49m\u001b[43margs\u001b[49m\u001b[43m,\u001b[49m\u001b[43m \u001b[49m\u001b[38;5;241;43m*\u001b[39;49m\u001b[38;5;241;43m*\u001b[39;49m\u001b[43mkwargs\u001b[49m\u001b[43m)\u001b[49m\n",
      "File \u001b[1;32mc:\\Program Files\\Python311\\Lib\\site-packages\\torch\\nn\\modules\\module.py:1541\u001b[0m, in \u001b[0;36mModule._call_impl\u001b[1;34m(self, *args, **kwargs)\u001b[0m\n\u001b[0;32m   1536\u001b[0m \u001b[38;5;66;03m# If we don't have any hooks, we want to skip the rest of the logic in\u001b[39;00m\n\u001b[0;32m   1537\u001b[0m \u001b[38;5;66;03m# this function, and just call forward.\u001b[39;00m\n\u001b[0;32m   1538\u001b[0m \u001b[38;5;28;01mif\u001b[39;00m \u001b[38;5;129;01mnot\u001b[39;00m (\u001b[38;5;28mself\u001b[39m\u001b[38;5;241m.\u001b[39m_backward_hooks \u001b[38;5;129;01mor\u001b[39;00m \u001b[38;5;28mself\u001b[39m\u001b[38;5;241m.\u001b[39m_backward_pre_hooks \u001b[38;5;129;01mor\u001b[39;00m \u001b[38;5;28mself\u001b[39m\u001b[38;5;241m.\u001b[39m_forward_hooks \u001b[38;5;129;01mor\u001b[39;00m \u001b[38;5;28mself\u001b[39m\u001b[38;5;241m.\u001b[39m_forward_pre_hooks\n\u001b[0;32m   1539\u001b[0m         \u001b[38;5;129;01mor\u001b[39;00m _global_backward_pre_hooks \u001b[38;5;129;01mor\u001b[39;00m _global_backward_hooks\n\u001b[0;32m   1540\u001b[0m         \u001b[38;5;129;01mor\u001b[39;00m _global_forward_hooks \u001b[38;5;129;01mor\u001b[39;00m _global_forward_pre_hooks):\n\u001b[1;32m-> 1541\u001b[0m     \u001b[38;5;28;01mreturn\u001b[39;00m \u001b[43mforward_call\u001b[49m\u001b[43m(\u001b[49m\u001b[38;5;241;43m*\u001b[39;49m\u001b[43margs\u001b[49m\u001b[43m,\u001b[49m\u001b[43m \u001b[49m\u001b[38;5;241;43m*\u001b[39;49m\u001b[38;5;241;43m*\u001b[39;49m\u001b[43mkwargs\u001b[49m\u001b[43m)\u001b[49m\n\u001b[0;32m   1543\u001b[0m \u001b[38;5;28;01mtry\u001b[39;00m:\n\u001b[0;32m   1544\u001b[0m     result \u001b[38;5;241m=\u001b[39m \u001b[38;5;28;01mNone\u001b[39;00m\n",
      "Cell \u001b[1;32mIn[74], line 17\u001b[0m, in \u001b[0;36mModifiedResNet18.forward\u001b[1;34m(self, x)\u001b[0m\n\u001b[0;32m     16\u001b[0m \u001b[38;5;28;01mdef\u001b[39;00m \u001b[38;5;21mforward\u001b[39m(\u001b[38;5;28mself\u001b[39m, x):\n\u001b[1;32m---> 17\u001b[0m     x \u001b[38;5;241m=\u001b[39m \u001b[38;5;28;43mself\u001b[39;49m\u001b[38;5;241;43m.\u001b[39;49m\u001b[43mresnet18\u001b[49m\u001b[43m(\u001b[49m\u001b[43mx\u001b[49m\u001b[43m)\u001b[49m\n\u001b[0;32m     18\u001b[0m     x \u001b[38;5;241m=\u001b[39m torch\u001b[38;5;241m.\u001b[39mflatten(x, \u001b[38;5;241m1\u001b[39m)\n\u001b[0;32m     19\u001b[0m     x \u001b[38;5;241m=\u001b[39m \u001b[38;5;28mself\u001b[39m\u001b[38;5;241m.\u001b[39mfc1(x)\n",
      "File \u001b[1;32mc:\\Program Files\\Python311\\Lib\\site-packages\\torch\\nn\\modules\\module.py:1532\u001b[0m, in \u001b[0;36mModule._wrapped_call_impl\u001b[1;34m(self, *args, **kwargs)\u001b[0m\n\u001b[0;32m   1530\u001b[0m     \u001b[38;5;28;01mreturn\u001b[39;00m \u001b[38;5;28mself\u001b[39m\u001b[38;5;241m.\u001b[39m_compiled_call_impl(\u001b[38;5;241m*\u001b[39margs, \u001b[38;5;241m*\u001b[39m\u001b[38;5;241m*\u001b[39mkwargs)  \u001b[38;5;66;03m# type: ignore[misc]\u001b[39;00m\n\u001b[0;32m   1531\u001b[0m \u001b[38;5;28;01melse\u001b[39;00m:\n\u001b[1;32m-> 1532\u001b[0m     \u001b[38;5;28;01mreturn\u001b[39;00m \u001b[38;5;28;43mself\u001b[39;49m\u001b[38;5;241;43m.\u001b[39;49m\u001b[43m_call_impl\u001b[49m\u001b[43m(\u001b[49m\u001b[38;5;241;43m*\u001b[39;49m\u001b[43margs\u001b[49m\u001b[43m,\u001b[49m\u001b[43m \u001b[49m\u001b[38;5;241;43m*\u001b[39;49m\u001b[38;5;241;43m*\u001b[39;49m\u001b[43mkwargs\u001b[49m\u001b[43m)\u001b[49m\n",
      "File \u001b[1;32mc:\\Program Files\\Python311\\Lib\\site-packages\\torch\\nn\\modules\\module.py:1541\u001b[0m, in \u001b[0;36mModule._call_impl\u001b[1;34m(self, *args, **kwargs)\u001b[0m\n\u001b[0;32m   1536\u001b[0m \u001b[38;5;66;03m# If we don't have any hooks, we want to skip the rest of the logic in\u001b[39;00m\n\u001b[0;32m   1537\u001b[0m \u001b[38;5;66;03m# this function, and just call forward.\u001b[39;00m\n\u001b[0;32m   1538\u001b[0m \u001b[38;5;28;01mif\u001b[39;00m \u001b[38;5;129;01mnot\u001b[39;00m (\u001b[38;5;28mself\u001b[39m\u001b[38;5;241m.\u001b[39m_backward_hooks \u001b[38;5;129;01mor\u001b[39;00m \u001b[38;5;28mself\u001b[39m\u001b[38;5;241m.\u001b[39m_backward_pre_hooks \u001b[38;5;129;01mor\u001b[39;00m \u001b[38;5;28mself\u001b[39m\u001b[38;5;241m.\u001b[39m_forward_hooks \u001b[38;5;129;01mor\u001b[39;00m \u001b[38;5;28mself\u001b[39m\u001b[38;5;241m.\u001b[39m_forward_pre_hooks\n\u001b[0;32m   1539\u001b[0m         \u001b[38;5;129;01mor\u001b[39;00m _global_backward_pre_hooks \u001b[38;5;129;01mor\u001b[39;00m _global_backward_hooks\n\u001b[0;32m   1540\u001b[0m         \u001b[38;5;129;01mor\u001b[39;00m _global_forward_hooks \u001b[38;5;129;01mor\u001b[39;00m _global_forward_pre_hooks):\n\u001b[1;32m-> 1541\u001b[0m     \u001b[38;5;28;01mreturn\u001b[39;00m \u001b[43mforward_call\u001b[49m\u001b[43m(\u001b[49m\u001b[38;5;241;43m*\u001b[39;49m\u001b[43margs\u001b[49m\u001b[43m,\u001b[49m\u001b[43m \u001b[49m\u001b[38;5;241;43m*\u001b[39;49m\u001b[38;5;241;43m*\u001b[39;49m\u001b[43mkwargs\u001b[49m\u001b[43m)\u001b[49m\n\u001b[0;32m   1543\u001b[0m \u001b[38;5;28;01mtry\u001b[39;00m:\n\u001b[0;32m   1544\u001b[0m     result \u001b[38;5;241m=\u001b[39m \u001b[38;5;28;01mNone\u001b[39;00m\n",
      "File \u001b[1;32mc:\\Program Files\\Python311\\Lib\\site-packages\\torch\\nn\\modules\\container.py:217\u001b[0m, in \u001b[0;36mSequential.forward\u001b[1;34m(self, input)\u001b[0m\n\u001b[0;32m    215\u001b[0m \u001b[38;5;28;01mdef\u001b[39;00m \u001b[38;5;21mforward\u001b[39m(\u001b[38;5;28mself\u001b[39m, \u001b[38;5;28minput\u001b[39m):\n\u001b[0;32m    216\u001b[0m     \u001b[38;5;28;01mfor\u001b[39;00m module \u001b[38;5;129;01min\u001b[39;00m \u001b[38;5;28mself\u001b[39m:\n\u001b[1;32m--> 217\u001b[0m         \u001b[38;5;28minput\u001b[39m \u001b[38;5;241m=\u001b[39m \u001b[43mmodule\u001b[49m\u001b[43m(\u001b[49m\u001b[38;5;28;43minput\u001b[39;49m\u001b[43m)\u001b[49m\n\u001b[0;32m    218\u001b[0m     \u001b[38;5;28;01mreturn\u001b[39;00m \u001b[38;5;28minput\u001b[39m\n",
      "File \u001b[1;32mc:\\Program Files\\Python311\\Lib\\site-packages\\torch\\nn\\modules\\module.py:1532\u001b[0m, in \u001b[0;36mModule._wrapped_call_impl\u001b[1;34m(self, *args, **kwargs)\u001b[0m\n\u001b[0;32m   1530\u001b[0m     \u001b[38;5;28;01mreturn\u001b[39;00m \u001b[38;5;28mself\u001b[39m\u001b[38;5;241m.\u001b[39m_compiled_call_impl(\u001b[38;5;241m*\u001b[39margs, \u001b[38;5;241m*\u001b[39m\u001b[38;5;241m*\u001b[39mkwargs)  \u001b[38;5;66;03m# type: ignore[misc]\u001b[39;00m\n\u001b[0;32m   1531\u001b[0m \u001b[38;5;28;01melse\u001b[39;00m:\n\u001b[1;32m-> 1532\u001b[0m     \u001b[38;5;28;01mreturn\u001b[39;00m \u001b[38;5;28;43mself\u001b[39;49m\u001b[38;5;241;43m.\u001b[39;49m\u001b[43m_call_impl\u001b[49m\u001b[43m(\u001b[49m\u001b[38;5;241;43m*\u001b[39;49m\u001b[43margs\u001b[49m\u001b[43m,\u001b[49m\u001b[43m \u001b[49m\u001b[38;5;241;43m*\u001b[39;49m\u001b[38;5;241;43m*\u001b[39;49m\u001b[43mkwargs\u001b[49m\u001b[43m)\u001b[49m\n",
      "File \u001b[1;32mc:\\Program Files\\Python311\\Lib\\site-packages\\torch\\nn\\modules\\module.py:1541\u001b[0m, in \u001b[0;36mModule._call_impl\u001b[1;34m(self, *args, **kwargs)\u001b[0m\n\u001b[0;32m   1536\u001b[0m \u001b[38;5;66;03m# If we don't have any hooks, we want to skip the rest of the logic in\u001b[39;00m\n\u001b[0;32m   1537\u001b[0m \u001b[38;5;66;03m# this function, and just call forward.\u001b[39;00m\n\u001b[0;32m   1538\u001b[0m \u001b[38;5;28;01mif\u001b[39;00m \u001b[38;5;129;01mnot\u001b[39;00m (\u001b[38;5;28mself\u001b[39m\u001b[38;5;241m.\u001b[39m_backward_hooks \u001b[38;5;129;01mor\u001b[39;00m \u001b[38;5;28mself\u001b[39m\u001b[38;5;241m.\u001b[39m_backward_pre_hooks \u001b[38;5;129;01mor\u001b[39;00m \u001b[38;5;28mself\u001b[39m\u001b[38;5;241m.\u001b[39m_forward_hooks \u001b[38;5;129;01mor\u001b[39;00m \u001b[38;5;28mself\u001b[39m\u001b[38;5;241m.\u001b[39m_forward_pre_hooks\n\u001b[0;32m   1539\u001b[0m         \u001b[38;5;129;01mor\u001b[39;00m _global_backward_pre_hooks \u001b[38;5;129;01mor\u001b[39;00m _global_backward_hooks\n\u001b[0;32m   1540\u001b[0m         \u001b[38;5;129;01mor\u001b[39;00m _global_forward_hooks \u001b[38;5;129;01mor\u001b[39;00m _global_forward_pre_hooks):\n\u001b[1;32m-> 1541\u001b[0m     \u001b[38;5;28;01mreturn\u001b[39;00m \u001b[43mforward_call\u001b[49m\u001b[43m(\u001b[49m\u001b[38;5;241;43m*\u001b[39;49m\u001b[43margs\u001b[49m\u001b[43m,\u001b[49m\u001b[43m \u001b[49m\u001b[38;5;241;43m*\u001b[39;49m\u001b[38;5;241;43m*\u001b[39;49m\u001b[43mkwargs\u001b[49m\u001b[43m)\u001b[49m\n\u001b[0;32m   1543\u001b[0m \u001b[38;5;28;01mtry\u001b[39;00m:\n\u001b[0;32m   1544\u001b[0m     result \u001b[38;5;241m=\u001b[39m \u001b[38;5;28;01mNone\u001b[39;00m\n",
      "File \u001b[1;32mc:\\Program Files\\Python311\\Lib\\site-packages\\torch\\nn\\modules\\conv.py:460\u001b[0m, in \u001b[0;36mConv2d.forward\u001b[1;34m(self, input)\u001b[0m\n\u001b[0;32m    459\u001b[0m \u001b[38;5;28;01mdef\u001b[39;00m \u001b[38;5;21mforward\u001b[39m(\u001b[38;5;28mself\u001b[39m, \u001b[38;5;28minput\u001b[39m: Tensor) \u001b[38;5;241m-\u001b[39m\u001b[38;5;241m>\u001b[39m Tensor:\n\u001b[1;32m--> 460\u001b[0m     \u001b[38;5;28;01mreturn\u001b[39;00m \u001b[38;5;28;43mself\u001b[39;49m\u001b[38;5;241;43m.\u001b[39;49m\u001b[43m_conv_forward\u001b[49m\u001b[43m(\u001b[49m\u001b[38;5;28;43minput\u001b[39;49m\u001b[43m,\u001b[49m\u001b[43m \u001b[49m\u001b[38;5;28;43mself\u001b[39;49m\u001b[38;5;241;43m.\u001b[39;49m\u001b[43mweight\u001b[49m\u001b[43m,\u001b[49m\u001b[43m \u001b[49m\u001b[38;5;28;43mself\u001b[39;49m\u001b[38;5;241;43m.\u001b[39;49m\u001b[43mbias\u001b[49m\u001b[43m)\u001b[49m\n",
      "File \u001b[1;32mc:\\Program Files\\Python311\\Lib\\site-packages\\torch\\nn\\modules\\conv.py:456\u001b[0m, in \u001b[0;36mConv2d._conv_forward\u001b[1;34m(self, input, weight, bias)\u001b[0m\n\u001b[0;32m    452\u001b[0m \u001b[38;5;28;01mif\u001b[39;00m \u001b[38;5;28mself\u001b[39m\u001b[38;5;241m.\u001b[39mpadding_mode \u001b[38;5;241m!=\u001b[39m \u001b[38;5;124m'\u001b[39m\u001b[38;5;124mzeros\u001b[39m\u001b[38;5;124m'\u001b[39m:\n\u001b[0;32m    453\u001b[0m     \u001b[38;5;28;01mreturn\u001b[39;00m F\u001b[38;5;241m.\u001b[39mconv2d(F\u001b[38;5;241m.\u001b[39mpad(\u001b[38;5;28minput\u001b[39m, \u001b[38;5;28mself\u001b[39m\u001b[38;5;241m.\u001b[39m_reversed_padding_repeated_twice, mode\u001b[38;5;241m=\u001b[39m\u001b[38;5;28mself\u001b[39m\u001b[38;5;241m.\u001b[39mpadding_mode),\n\u001b[0;32m    454\u001b[0m                     weight, bias, \u001b[38;5;28mself\u001b[39m\u001b[38;5;241m.\u001b[39mstride,\n\u001b[0;32m    455\u001b[0m                     _pair(\u001b[38;5;241m0\u001b[39m), \u001b[38;5;28mself\u001b[39m\u001b[38;5;241m.\u001b[39mdilation, \u001b[38;5;28mself\u001b[39m\u001b[38;5;241m.\u001b[39mgroups)\n\u001b[1;32m--> 456\u001b[0m \u001b[38;5;28;01mreturn\u001b[39;00m \u001b[43mF\u001b[49m\u001b[38;5;241;43m.\u001b[39;49m\u001b[43mconv2d\u001b[49m\u001b[43m(\u001b[49m\u001b[38;5;28;43minput\u001b[39;49m\u001b[43m,\u001b[49m\u001b[43m \u001b[49m\u001b[43mweight\u001b[49m\u001b[43m,\u001b[49m\u001b[43m \u001b[49m\u001b[43mbias\u001b[49m\u001b[43m,\u001b[49m\u001b[43m \u001b[49m\u001b[38;5;28;43mself\u001b[39;49m\u001b[38;5;241;43m.\u001b[39;49m\u001b[43mstride\u001b[49m\u001b[43m,\u001b[49m\n\u001b[0;32m    457\u001b[0m \u001b[43m                \u001b[49m\u001b[38;5;28;43mself\u001b[39;49m\u001b[38;5;241;43m.\u001b[39;49m\u001b[43mpadding\u001b[49m\u001b[43m,\u001b[49m\u001b[43m \u001b[49m\u001b[38;5;28;43mself\u001b[39;49m\u001b[38;5;241;43m.\u001b[39;49m\u001b[43mdilation\u001b[49m\u001b[43m,\u001b[49m\u001b[43m \u001b[49m\u001b[38;5;28;43mself\u001b[39;49m\u001b[38;5;241;43m.\u001b[39;49m\u001b[43mgroups\u001b[49m\u001b[43m)\u001b[49m\n",
      "\u001b[1;31mRuntimeError\u001b[0m: Given groups=1, weight of size [64, 3, 7, 7], expected input[1, 1, 96, 96] to have 3 channels, but got 1 channels instead"
     ]
    },
    {
     "data": {
      "image/png": "[encoded data removed]",
      "text/plain": [
       "<Figure size 1500x1500 with 25 Axes>"
      ]
     },
     "metadata": {},
     "output_type": "display_data"
    }
   ],
   "source": [
    "num_fig_rows = 5\n",
    "num_fig_cols = 5\n",
    "\n",
    "num_plots = num_fig_rows * num_fig_cols\n",
    "\n",
    "rand_inds_vec = np.random.choice(test_images.shape[0],num_plots,replace=False)\n",
    "rand_inds_mat = rand_inds_vec.reshape((num_fig_rows,num_fig_cols))\n",
    "\n",
    "plt.close('all')\n",
    "fig, ax = plt.subplots(nrows=num_fig_rows,ncols=num_fig_cols,figsize=(15,15))\n",
    "\n",
    "for i in range(num_fig_rows):\n",
    "    for j in range(num_fig_cols):\n",
    "        curr_ind = rand_inds_mat[i][j]\n",
    "        curr_image = transform(test_images[curr_ind,0,:,:].reshape(1,1,test_images.shape[2],test_images.shape[3]))\n",
    "    \n",
    "        x_true_coords = np.array(test_coords[curr_ind,0::2].tolist()) * 7.0 / 3.0\n",
    "        y_true_coords = np.array(test_coords[curr_ind,1::2].tolist()) * 7.0 / 3.0\n",
    "        \n",
    "        with torch.no_grad():\n",
    "            output = model(curr_image.repeat(1,3,1,1))\n",
    "            x_pred_coords = (output.detach().numpy()[0][0::2] * 7.0 / 3.0).tolist()\n",
    "            y_pred_coords = (output.detach().numpy()[0][1::2] * 7.0 / 3.0).tolist()\n",
    "    \n",
    "        ax[i][j].imshow(curr_image[0,0,:,:], cmap='gray')\n",
    "        ax[i][j].scatter(x_true_coords,y_true_coords,c='r',s=15)\n",
    "        ax[i][j].scatter(x_pred_coords,y_pred_coords,c='b',s=15)\n",
    "        ax[i][j].set_axis_off()\n",
    "        ax[i][j].set_title('image index = %d' %(curr_ind),fontsize=10)"
   ]
  },
  {
   "cell_type": "markdown",
   "metadata": {},
   "source": [
    "## Run webcam through model"
   ]
  },
  {
   "cell_type": "code",
   "execution_count": 72,
   "metadata": {},
   "outputs": [],
   "source": [
    "### Open the first webcam (index 0)\n",
    "cap = cv2.VideoCapture(0)\n",
    "\n",
    "# Check if the webcam is opened successfully\n",
    "if not cap.isOpened():\n",
    "    print(\"Error: Could not open webcam.\")\n",
    "    exit()\n",
    "\n",
    "# Create OpenCV window\n",
    "cv2.namedWindow(\"Webcam\", cv2.WINDOW_NORMAL) \n",
    "# Resize window \n",
    "cv2.resizeWindow(\"Webcam\", 300, 300) \n",
    "#########################################\n",
    "\n",
    "model = CNN()\n",
    "model.load_state_dict(torch.load('./model_trained'))\n",
    "model.eval()\n",
    "\n",
    "##########################################\n",
    "\n",
    "# Loop to capture frames from the webcam\n",
    "while True:\n",
    "    # Read a frame from the webcam\n",
    "    ret, frame = cap.read()\n",
    "\n",
    "    # Check if frame is successfully read\n",
    "    if not ret:\n",
    "        print(\"Error: Failed to capture frame.\")\n",
    "        break\n",
    "\n",
    "    # Process frame to be greyscale and same shape as training images\n",
    "    image = cv2.resize(frame.mean(axis=2)[:,80:560], (0,0), fx=0.2, fy=0.2)/255.0\n",
    "    \n",
    "    # Forward pass through model to get coordinate predictions\n",
    "    output = model(torch.tensor(np.reshape(image,(1,1,96,96))).float())\n",
    "    x_pred_coords = output.detach().numpy()[0][0::2].astype(int)\n",
    "    y_pred_coords = output.detach().numpy()[0][1::2].astype(int)\n",
    "    \n",
    "    # Draw coords on image\n",
    "    imageDisplay = cv2.merge((image,image,image))\n",
    "    for ix in range(len(x_pred_coords)):\n",
    "        cv2.circle(imageDisplay, (x_pred_coords[ix], y_pred_coords[ix]), 2, (1.0, 0, 0), -1)\n",
    "\n",
    "    # Display the image with coords\n",
    "    cv2.imshow('Webcam', imageDisplay)\n",
    "\n",
    "    # Check for 'q' key to quit\n",
    "    if cv2.waitKey(1) & 0xFF == ord('q'):\n",
    "        break\n",
    "\n",
    "# Release the webcam and close all OpenCV windows\n",
    "cap.release()\n",
    "cv2.destroyAllWindows()\n"
   ]
  },
  {
   "cell_type": "code",
   "execution_count": 56,
   "metadata": {},
   "outputs": [],
   "source": [
    "cap.release()\n",
    "cv2.destroyAllWindows()"
   ]
  }
 ],
 "metadata": {
  "kernelspec": {
   "display_name": "Python 3 (ipykernel)",
   "language": "python",
   "name": "python3"
  },
  "language_info": {
   "codemirror_mode": {
    "name": "ipython",
    "version": 3
   },
   "file_extension": ".py",
   "mimetype": "text/x-python",
   "name": "python",
   "nbconvert_exporter": "python",
   "pygments_lexer": "ipython3",
   "version": "3.11.3"
  }
 },
 "nbformat": 4,
 "nbformat_minor": 2
}
