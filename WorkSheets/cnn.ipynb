{
 "cells": [
  {
   "cell_type": "markdown",
   "metadata": {},
   "source": [
    "## Import libraries"
   ]
  },
  {
   "cell_type": "code",
   "execution_count": 1,
   "metadata": {},
   "outputs": [
    {
     "name": "stdout",
     "output_type": "stream",
     "text": [
      "Using device: cuda\n"
     ]
    }
   ],
   "source": [
    "import torch\n",
    "import torch.nn as nn\n",
    "import torch.optim as optim\n",
    "import numpy as np\n",
    "import pandas as pd\n",
    "from sklearn.model_selection import train_test_split\n",
    "import matplotlib.pyplot as plt\n",
    "from torch.utils.data import DataLoader, TensorDataset\n",
    "device = torch.device('cuda' if torch.cuda.is_available() else 'cpu')\n",
    "print(f'Using device: {device}')"
   ]
  },
  {
   "cell_type": "code",
   "execution_count": null,
   "metadata": {},
   "outputs": [],
   "source": [
    "data = np.load(npz_file)\n",
    "images = data['face_images']  # assuming images are stored under 'images' key\n",
    "print(np.shape(images))\n",
    "images = np.transpose(images, (2, 0, 1))\n",
    "print(np.shape(images))\n",
    "coordinates = np.array(pd.read_csv(csv_file).values)\n",
    "print(np.shape(coordinates))\n",
    "\n",
    "keep_ix = np.logical_not(np.isnan(coordinates[:,:4])).all(axis=1)\n",
    "images = images[keep_ix,:]\n",
    "coordinates = coordinates[keep_ix,:4]\n",
    "print(np.shape(images))\n",
    "print(np.shape(coordinates))\n",
    "\n",
    "for j in range(np.shape(images)[0]):\n",
    "    images[j,:] = (images[j,:] - images[j,:].mean()) / images[j,:].std()"
   ]
  },
  {
   "cell_type": "markdown",
   "metadata": {},
   "source": [
    "## Load data"
   ]
  },
  {
   "cell_type": "code",
   "execution_count": 5,
   "metadata": {},
   "outputs": [],
   "source": [
    "# Load and preprocess data\n",
    "npz_file = '../dataset/face_images.npz'\n",
    "csv_file = '../dataset/facial_keypoints.csv'\n",
    "\n",
    "data = np.load(npz_file)\n",
    "images = data['face_images']  # assuming images are stored under 'images' key\n",
    "coordinates = np.array(pd.read_csv(csv_file).values)\n",
    "\n",
    "# Reshape image data\n",
    "images = np.transpose(images, (2, 0, 1))\n",
    "\n",
    "# Find samples that have at coordinates for centres of both eyes\n",
    "keep_ix = np.logical_not(np.isnan(coordinates[:,:4])).all(axis=1)\n",
    "images = images[keep_ix,:]\n",
    "coordinates = coordinates[keep_ix,:4]\n",
    "\n",
    "# Normalize images\n",
    "for j in range(np.shape(images)[0]):\n",
    "    images[j,:] = (images[j,:] - images[j,:].mean()) / images[j,:].std()\n",
    "\n",
    "# Reshape images to (num_samples, 1, height, width) if necessary\n",
    "if len(images.shape) == 3:\n",
    "    images = images[:, np.newaxis, :, :]\n",
    "\n",
    "# Convert to PyTorch tensors\n",
    "images_tensor = torch.tensor(images, dtype=torch.float32)\n",
    "coordinates_tensor = torch.tensor(coordinates, dtype=torch.float32)\n",
    "\n",
    "# Split the data\n",
    "train_images, test_images, train_coords, test_coords = train_test_split(\n",
    "    images_tensor, coordinates_tensor, test_size=0.2, random_state=42)\n",
    "\n",
    "train_dataset = TensorDataset(train_images, train_coords)\n",
    "test_dataset = TensorDataset(test_images, test_coords)\n",
    "\n",
    "train_loader = DataLoader(train_dataset, batch_size=32, shuffle=True)\n",
    "test_loader = DataLoader(test_dataset, batch_size=32, shuffle=False)"
   ]
  },
  {
   "cell_type": "markdown",
   "metadata": {},
   "source": [
    "## Create Convolutional Neural Network model"
   ]
  },
  {
   "cell_type": "code",
   "execution_count": 27,
   "metadata": {},
   "outputs": [],
   "source": [
    "# 3. Create a convolutional neural network\n",
    "class CNN(nn.Module):\n",
    "    def __init__(self):\n",
    "        super(CNN, self).__init__()\n",
    "        self.conv1 = nn.Conv2d(1, 32, kernel_size=3, padding=1)\n",
    "        self.conv2 = nn.Conv2d(32, 64, kernel_size=3, padding=1)\n",
    "        self.conv3 = nn.Conv2d(64, 128, kernel_size=3, padding=1)\n",
    "        self.fc1 = nn.Linear(128, 4)  # assuming input images are 32x32\n",
    "\n",
    "    def forward(self, x):\n",
    "        x = torch.relu(self.conv1(x))\n",
    "        x = torch.max_pool2d(x, 2)\n",
    "        x = torch.relu(self.conv2(x))\n",
    "        x = torch.max_pool2d(x, 2)\n",
    "        x = torch.relu(self.conv3(x))\n",
    "        x = x.mean(3).mean(2) # Global average pooling\n",
    "        x = torch.relu(self.fc1(x))\n",
    "        return x\n",
    "\n",
    "model = CNN()"
   ]
  },
  {
   "cell_type": "markdown",
   "metadata": {},
   "source": [
    "## Train the model on the data"
   ]
  },
  {
   "cell_type": "code",
   "execution_count": 28,
   "metadata": {},
   "outputs": [
    {
     "name": "stdout",
     "output_type": "stream",
     "text": [
      "Epoch 1/20, Train Loss: 14.9508, Test Loss: 11.6528\n",
      "Epoch 2/20, Train Loss: 11.4820, Test Loss: 11.4142\n",
      "Epoch 3/20, Train Loss: 11.2811, Test Loss: 11.1386\n",
      "Epoch 4/20, Train Loss: 11.1479, Test Loss: 11.0488\n",
      "Epoch 5/20, Train Loss: 11.0888, Test Loss: 11.3766\n",
      "Epoch 6/20, Train Loss: 11.0648, Test Loss: 11.0752\n",
      "Epoch 7/20, Train Loss: 11.0339, Test Loss: 11.0248\n",
      "Epoch 8/20, Train Loss: 11.0545, Test Loss: 10.9632\n",
      "Epoch 9/20, Train Loss: 11.0344, Test Loss: 11.0483\n",
      "Epoch 10/20, Train Loss: 11.0128, Test Loss: 11.0987\n",
      "Epoch 11/20, Train Loss: 11.0214, Test Loss: 10.9662\n",
      "Epoch 12/20, Train Loss: 11.0490, Test Loss: 10.9539\n",
      "Epoch 13/20, Train Loss: 11.0264, Test Loss: 10.9399\n",
      "Epoch 14/20, Train Loss: 11.0179, Test Loss: 11.0064\n",
      "Epoch 15/20, Train Loss: 11.0098, Test Loss: 11.1594\n",
      "Epoch 16/20, Train Loss: 11.0363, Test Loss: 10.9510\n",
      "Epoch 17/20, Train Loss: 10.9814, Test Loss: 10.9366\n",
      "Epoch 18/20, Train Loss: 11.0264, Test Loss: 11.0022\n",
      "Epoch 19/20, Train Loss: 11.0359, Test Loss: 10.9736\n",
      "Epoch 20/20, Train Loss: 10.9982, Test Loss: 10.9546\n"
     ]
    }
   ],
   "source": [
    "# Train the model\n",
    "criterion = nn.L1Loss()\n",
    "optimizer = optim.Adam(model.parameters(), lr=0.001)\n",
    "\n",
    "num_epochs = 20\n",
    "train_losses = []\n",
    "test_losses = []\n",
    "\n",
    "for epoch in range(num_epochs):\n",
    "    model.train()\n",
    "    train_loss = 0.0\n",
    "    for images, coords in train_loader:\n",
    "        optimizer.zero_grad()\n",
    "        outputs = model(images)\n",
    "        loss = criterion(outputs, coords)\n",
    "        loss.backward()\n",
    "        optimizer.step()\n",
    "        train_loss += loss.item() * images.size(0)\n",
    "    \n",
    "    train_loss = train_loss / len(train_loader.dataset)\n",
    "    train_losses.append(train_loss)\n",
    "    \n",
    "    model.eval()\n",
    "    test_loss = 0.0\n",
    "    with torch.no_grad():\n",
    "        for images, coords in test_loader:\n",
    "            outputs = model(images)\n",
    "            loss = criterion(outputs, coords)\n",
    "            test_loss += loss.item() * images.size(0)\n",
    "    \n",
    "    test_loss = test_loss / len(test_loader.dataset)\n",
    "    test_losses.append(test_loss)\n",
    "    \n",
    "    print(f'Epoch {epoch+1}/{num_epochs}, Train Loss: {train_loss:.4f}, Test Loss: {test_loss:.4f}')"
   ]
  },
  {
   "cell_type": "markdown",
   "metadata": {},
   "source": [
    "## Plot results from the model"
   ]
  },
  {
   "cell_type": "code",
   "execution_count": 3,
   "metadata": {},
   "outputs": [
    {
     "ename": "NameError",
     "evalue": "name 'train_losses' is not defined",
     "output_type": "error",
     "traceback": [
      "\u001b[0;31m---------------------------------------------------------------------------\u001b[0m",
      "\u001b[0;31mNameError\u001b[0m                                 Traceback (most recent call last)",
      "Input \u001b[0;32mIn [3]\u001b[0m, in \u001b[0;36m<cell line: 3>\u001b[0;34m()\u001b[0m\n\u001b[1;32m      1\u001b[0m \u001b[38;5;66;03m# 5. Plot the losses\u001b[39;00m\n\u001b[1;32m      2\u001b[0m plt\u001b[38;5;241m.\u001b[39mfigure(figsize\u001b[38;5;241m=\u001b[39m(\u001b[38;5;241m10\u001b[39m,\u001b[38;5;241m5\u001b[39m))\n\u001b[0;32m----> 3\u001b[0m plt\u001b[38;5;241m.\u001b[39mplot(\u001b[43mtrain_losses\u001b[49m, label\u001b[38;5;241m=\u001b[39m\u001b[38;5;124m'\u001b[39m\u001b[38;5;124mTrain Loss\u001b[39m\u001b[38;5;124m'\u001b[39m)\n\u001b[1;32m      4\u001b[0m plt\u001b[38;5;241m.\u001b[39mplot(test_losses, label\u001b[38;5;241m=\u001b[39m\u001b[38;5;124m'\u001b[39m\u001b[38;5;124mTest Loss\u001b[39m\u001b[38;5;124m'\u001b[39m)\n\u001b[1;32m      5\u001b[0m plt\u001b[38;5;241m.\u001b[39mxlabel(\u001b[38;5;124m'\u001b[39m\u001b[38;5;124mEpoch\u001b[39m\u001b[38;5;124m'\u001b[39m)\n",
      "\u001b[0;31mNameError\u001b[0m: name 'train_losses' is not defined"
     ]
    },
    {
     "data": {
      "text/plain": [
       "<Figure size 1000x500 with 0 Axes>"
      ]
     },
     "metadata": {},
     "output_type": "display_data"
    }
   ],
   "source": [
    "# Plot the losses\n",
    "plt.figure(figsize=(10,5))\n",
    "plt.plot(train_losses, label='Train Loss')\n",
    "plt.plot(test_losses, label='Test Loss')\n",
    "plt.xlabel('Epoch')\n",
    "plt.ylabel('Loss')\n",
    "plt.legend()\n",
    "plt.show()\n",
    "## MOST RECENT"
   ]
  }
 ],
 "metadata": {
  "kernelspec": {
   "display_name": "Python 3 (ipykernel)",
   "language": "python",
   "name": "python3"
  },
  "language_info": {
   "codemirror_mode": {
    "name": "ipython",
    "version": 3
   },
   "file_extension": ".py",
   "mimetype": "text/x-python",
   "name": "python",
   "nbconvert_exporter": "python",
   "pygments_lexer": "ipython3",
   "version": "3.8.16"
  }
 },
 "nbformat": 4,
 "nbformat_minor": 2
}
