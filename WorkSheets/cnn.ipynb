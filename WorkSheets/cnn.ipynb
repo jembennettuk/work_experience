{
 "cells": [
  {
   "cell_type": "code",
   "execution_count": null,
   "metadata": {},
   "outputs": [],
   "source": []
  },
  {
   "cell_type": "markdown",
   "metadata": {},
   "source": [
    "## Import libraries"
   ]
  },
  {
   "cell_type": "code",
   "execution_count": null,
   "metadata": {},
   "outputs": [],
   "source": [
    "import torch\n",
    "import torch.nn as nn\n",
    "import torch.optim as optim\n",
    "import numpy as np\n",
    "import pandas as pd\n",
    "from sklearn.model_selection import train_test_split\n",
    "import matplotlib.pyplot as plt\n",
    "from torch.utils.data import DataLoader, TensorDataset"
   ]
  },
  {
   "cell_type": "code",
   "execution_count": null,
   "metadata": {},
   "outputs": [],
   "source": [
    "data = np.load(npz_file)\n",
    "images = data['face_images']  # assuming images are stored under 'images' key\n",
    "print(np.shape(images))\n",
    "images = np.transpose(images, (2, 0, 1))\n",
    "print(np.shape(images))\n",
    "coordinates = np.array(pd.read_csv(csv_file).values)\n",
    "print(np.shape(coordinates))\n",
    "\n",
    "keep_ix = np.logical_not(np.isnan(coordinates[:,:4])).all(axis=1)\n",
    "images = images[keep_ix,:]\n",
    "coordinates = coordinates[keep_ix,:4]\n",
    "print(np.shape(images))\n",
    "print(np.shape(coordinates))\n",
    "\n",
    "for j in range(np.shape(images)[0]):\n",
    "    images[j,:] = (images[j,:] - images[j,:].mean()) / images[j,:].std()"
   ]
  },
  {
   "cell_type": "markdown",
   "metadata": {},
   "source": [
    "## Load data"
   ]
  },
  {
   "cell_type": "code",
   "execution_count": null,
   "metadata": {},
   "outputs": [],
   "source": [
    "# Load and preprocess data\n",
    "npz_file = '../dataset/face_images.npz'\n",
    "csv_file = '../dataset/facial_keypoints.csv'\n",
    "\n",
    "data = np.load(npz_file)\n",
    "images = data['face_images']  # assuming images are stored under 'images' key\n",
    "coordinates = np.array(pd.read_csv(csv_file).values)\n",
    "\n",
    "# Reshape image data\n",
    "images = np.transpose(images, (2, 0, 1))\n",
    "\n",
    "# Find samples that have at coordinates for centres of both eyes\n",
    "keep_ix = np.logical_not(np.isnan(coordinates[:,:4])).all(axis=1)\n",
    "images = images[keep_ix,:]\n",
    "coordinates = coordinates[keep_ix,:4]\n",
    "\n",
    "# Normalize images\n",
    "for j in range(np.shape(images)[0]):\n",
    "    images[j,:] = (images[j,:] - images[j,:].mean()) / images[j,:].std()\n",
    "\n",
    "# Reshape images to (num_samples, 1, height, width) if necessary\n",
    "if len(images.shape) == 3:\n",
    "    images = images[:, np.newaxis, :, :]\n",
    "\n",
    "# Convert to PyTorch tensors\n",
    "images_tensor = torch.tensor(images, dtype=torch.float32)\n",
    "coordinates_tensor = torch.tensor(coordinates, dtype=torch.float32)\n",
    "\n",
    "# Split the data\n",
    "train_images, test_images, train_coords, test_coords = train_test_split(\n",
    "    images_tensor, coordinates_tensor, test_size=0.2, random_state=42)\n",
    "\n",
    "train_dataset = TensorDataset(train_images, train_coords)\n",
    "test_dataset = TensorDataset(test_images, test_coords)\n",
    "\n",
    "train_loader = DataLoader(train_dataset, batch_size=32, shuffle=True)\n",
    "test_loader = DataLoader(test_dataset, batch_size=32, shuffle=False)"
   ]
  },
  {
   "cell_type": "markdown",
   "metadata": {},
   "source": [
    "## Create Convolutional Neural Network model"
   ]
  },
  {
   "cell_type": "code",
   "execution_count": null,
   "metadata": {},
   "outputs": [],
   "source": [
    "# 3. Create a convolutional neural network\n",
    "class CNN(nn.Module):\n",
    "    def __init__(self):\n",
    "        super(CNN, self).__init__()\n",
    "        self.conv1 = nn.Conv2d(1, 32, kernel_size=3, padding=1)\n",
    "        self.conv2 = nn.Conv2d(32, 64, kernel_size=3, padding=1)\n",
    "        self.fc1 = nn.Linear(64 * 24 * 24, 128)  # assuming input images are 32x32\n",
    "        self.fc2 = nn.Linear(128, 4)  # assuming coordinate output is 2-dimensional\n",
    "\n",
    "    def forward(self, x):\n",
    "        x = torch.relu(self.conv1(x))\n",
    "        x = torch.max_pool2d(x, 2)\n",
    "        x = torch.relu(self.conv2(x))\n",
    "        x = torch.max_pool2d(x, 2)\n",
    "        x = x.view(x.size(0), -1)  # flatten\n",
    "        x = torch.relu(self.fc1(x))\n",
    "        x = self.fc2(x)\n",
    "        return x\n",
    "\n",
    "model = CNN()"
   ]
  },
  {
   "cell_type": "markdown",
   "metadata": {},
   "source": [
    "## Train the model on the data"
   ]
  },
  {
   "cell_type": "code",
   "execution_count": null,
   "metadata": {},
   "outputs": [],
   "source": [
    "# 4. Train the model\n",
    "criterion = nn.L1Loss()\n",
    "optimizer = optim.Adam(model.parameters(), lr=0.001)\n",
    "\n",
    "num_epochs = 20\n",
    "train_losses = []\n",
    "test_losses = []\n",
    "\n",
    "for epoch in range(num_epochs):\n",
    "    model.train()\n",
    "    train_loss = 0.0\n",
    "    for images, coords in train_loader:\n",
    "        optimizer.zero_grad()\n",
    "        outputs = model(images)\n",
    "        loss = criterion(outputs, coords)\n",
    "        loss.backward()\n",
    "        optimizer.step()\n",
    "        train_loss += loss.item() * images.size(0)\n",
    "    \n",
    "    train_loss = train_loss / len(train_loader.dataset)\n",
    "    train_losses.append(train_loss)\n",
    "    \n",
    "    model.eval()\n",
    "    test_loss = 0.0\n",
    "    with torch.no_grad():\n",
    "        for images, coords in test_loader:\n",
    "            outputs = model(images)\n",
    "            loss = criterion(outputs, coords)\n",
    "            test_loss += loss.item() * images.size(0)\n",
    "    \n",
    "    test_loss = test_loss / len(test_loader.dataset)\n",
    "    test_losses.append(test_loss)\n",
    "    \n",
    "    print(f'Epoch {epoch+1}/{num_epochs}, Train Loss: {train_loss:.4f}, Test Loss: {test_loss:.4f}')"
   ]
  },
  {
   "cell_type": "markdown",
   "metadata": {},
   "source": [
    "## Plot results from the model"
   ]
  },
  {
   "cell_type": "code",
   "execution_count": null,
   "metadata": {},
   "outputs": [],
   "source": [
    "# 5. Plot the losses\n",
    "plt.figure(figsize=(10,5))\n",
    "plt.plot(train_losses, label='Train Loss')\n",
    "plt.plot(test_losses, label='Test Loss')\n",
    "plt.xlabel('Epoch')\n",
    "plt.ylabel('Loss')\n",
    "plt.legend()\n",
    "plt.show()"
   ]
  }
 ],
 "metadata": {
  "kernelspec": {
   "display_name": "venv",
   "language": "python",
   "name": "python3"
  },
  "language_info": {
   "codemirror_mode": {
    "name": "ipython",
    "version": 3
   },
   "file_extension": ".py",
   "mimetype": "text/x-python",
   "name": "python",
   "nbconvert_exporter": "python",
   "pygments_lexer": "ipython3",
   "version": "3.8.16"
  }
 },
 "nbformat": 4,
 "nbformat_minor": 2
}
