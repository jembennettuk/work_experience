{
 "cells": [
  {
   "cell_type": "markdown",
   "metadata": {},
   "source": [
    "## Import libraries"
   ]
  },
  {
   "cell_type": "code",
   "execution_count": 4,
   "metadata": {},
   "outputs": [
    {
     "name": "stdout",
     "output_type": "stream",
     "text": [
      "Using device: cuda\n"
     ]
    }
   ],
   "source": [
    "import torch\n",
    "import torch.nn as nn\n",
    "import torch.optim as optim\n",
    "import numpy as np\n",
    "import pandas as pd\n",
    "from sklearn.model_selection import train_test_split\n",
    "import matplotlib.pyplot as plt\n",
    "from torch.utils.data import DataLoader, TensorDataset\n",
    "device = torch.device('cuda' if torch.cuda.is_available() else 'cpu')\n",
    "print(f'Using device: {device}')"
   ]
  },
  {
   "cell_type": "code",
   "execution_count": null,
   "metadata": {},
   "outputs": [],
   "source": [
    "data = np.load(npz_file)\n",
    "images = data['face_images']  # assuming images are stored under 'images' key\n",
    "print(np.shape(images))\n",
    "images = np.transpose(images, (2, 0, 1))\n",
    "print(np.shape(images))\n",
    "coordinates = np.array(pd.read_csv(csv_file).values)\n",
    "print(np.shape(coordinates))\n",
    "\n",
    "keep_ix = np.logical_not(np.isnan(coordinates[:,:4])).all(axis=1)\n",
    "images = images[keep_ix,:]\n",
    "coordinates = coordinates[keep_ix,:4]\n",
    "print(np.shape(images))\n",
    "print(np.shape(coordinates))\n",
    "\n",
    "for j in range(np.shape(images)[0]):\n",
    "    images[j,:] = (images[j,:] - images[j,:].mean()) / images[j,:].std()"
   ]
  },
  {
   "cell_type": "markdown",
   "metadata": {},
   "source": [
    "## Load data"
   ]
  },
  {
   "cell_type": "code",
   "execution_count": 5,
   "metadata": {},
   "outputs": [],
   "source": [
    "# Load and preprocess data\n",
    "npz_file = '../dataset/face_images.npz'\n",
    "csv_file = '../dataset/facial_keypoints.csv'\n",
    "\n",
    "data = np.load(npz_file)\n",
    "images = data['face_images']  # assuming images are stored under 'images' key\n",
    "coordinates = np.array(pd.read_csv(csv_file).values)\n",
    "\n",
    "# Reshape image data\n",
    "images = np.transpose(images, (2, 0, 1))\n",
    "\n",
    "# Find samples that have at coordinates for centres of both eyes\n",
    "keep_ix = np.logical_not(np.isnan(coordinates[:,:4])).all(axis=1)\n",
    "images = images[keep_ix,:]\n",
    "coordinates = coordinates[keep_ix,:4]\n",
    "\n",
    "# Normalize images\n",
    "for j in range(np.shape(images)[0]):\n",
    "    images[j,:] = (images[j,:] - images[j,:].mean()) / images[j,:].std()\n",
    "\n",
    "# Reshape images to (num_samples, 1, height, width) if necessary\n",
    "if len(images.shape) == 3:\n",
    "    images = images[:, np.newaxis, :, :]\n",
    "\n",
    "# Convert to PyTorch tensors\n",
    "images_tensor = torch.tensor(images, dtype=torch.float32)\n",
    "coordinates_tensor = torch.tensor(coordinates, dtype=torch.float32)\n",
    "\n",
    "# Split the data\n",
    "train_images, test_images, train_coords, test_coords = train_test_split(\n",
    "    images_tensor, coordinates_tensor, test_size=0.2, random_state=42)\n",
    "\n",
    "train_dataset = TensorDataset(train_images, train_coords)\n",
    "test_dataset = TensorDataset(test_images, test_coords)\n",
    "\n",
    "train_loader = DataLoader(train_dataset, batch_size=32, shuffle=True)\n",
    "test_loader = DataLoader(test_dataset, batch_size=32, shuffle=False)"
   ]
  },
  {
   "cell_type": "markdown",
   "metadata": {},
   "source": [
    "## Create Convolutional Neural Network model"
   ]
  },
  {
   "cell_type": "code",
   "execution_count": 27,
   "metadata": {},
   "outputs": [],
   "source": [
    "# 3. Create a convolutional neural network\n",
    "class CNN(nn.Module):\n",
    "    def __init__(self):\n",
    "        super(CNN, self).__init__()\n",
    "        self.conv1 = nn.Conv2d(1, 32, kernel_size=3, padding=1)\n",
    "        self.conv2 = nn.Conv2d(32, 64, kernel_size=3, padding=1)\n",
    "        self.conv3 = nn.Conv2d(64, 128, kernel_size=3, padding=1)\n",
    "        self.fc1 = nn.Linear(128, 4)  # assuming input images are 32x32\n",
    "\n",
    "    def forward(self, x):\n",
    "        x = torch.relu(self.conv1(x))\n",
    "        x = torch.max_pool2d(x, 2)\n",
    "        x = torch.relu(self.conv2(x))\n",
    "        x = torch.max_pool2d(x, 2)\n",
    "        x = torch.relu(self.conv3(x))\n",
    "        x = x.mean(3).mean(2) # Global average pooling\n",
    "        x = torch.relu(self.fc1(x))\n",
    "        return x\n",
    "\n",
    "model = CNN()"
   ]
  },
  {
   "cell_type": "markdown",
   "metadata": {},
   "source": [
    "## Train the model on the data"
   ]
  },
  {
   "cell_type": "code",
   "execution_count": 26,
   "metadata": {},
   "outputs": [
    {
     "name": "stdout",
     "output_type": "stream",
     "text": [
      "torch.Size([32, 128, 24, 24])\n",
      "torch.Size([32, 128])\n",
      "torch.Size([32, 128, 24, 24])\n",
      "torch.Size([32, 128])\n",
      "torch.Size([32, 128, 24, 24])\n",
      "torch.Size([32, 128])\n",
      "torch.Size([32, 128, 24, 24])\n",
      "torch.Size([32, 128])\n",
      "torch.Size([32, 128, 24, 24])\n",
      "torch.Size([32, 128])\n",
      "torch.Size([32, 128, 24, 24])\n",
      "torch.Size([32, 128])\n",
      "torch.Size([32, 128, 24, 24])\n",
      "torch.Size([32, 128])\n",
      "torch.Size([32, 128, 24, 24])\n",
      "torch.Size([32, 128])\n",
      "torch.Size([32, 128, 24, 24])\n",
      "torch.Size([32, 128])\n",
      "torch.Size([32, 128, 24, 24])\n",
      "torch.Size([32, 128])\n",
      "torch.Size([32, 128, 24, 24])\n",
      "torch.Size([32, 128])\n",
      "torch.Size([32, 128, 24, 24])\n",
      "torch.Size([32, 128])\n",
      "torch.Size([32, 128, 24, 24])\n",
      "torch.Size([32, 128])\n",
      "torch.Size([32, 128, 24, 24])\n",
      "torch.Size([32, 128])\n",
      "torch.Size([32, 128, 24, 24])\n",
      "torch.Size([32, 128])\n",
      "torch.Size([32, 128, 24, 24])\n",
      "torch.Size([32, 128])\n",
      "torch.Size([32, 128, 24, 24])\n",
      "torch.Size([32, 128])\n",
      "torch.Size([32, 128, 24, 24])\n",
      "torch.Size([32, 128])\n",
      "torch.Size([32, 128, 24, 24])\n",
      "torch.Size([32, 128])\n",
      "torch.Size([32, 128, 24, 24])\n",
      "torch.Size([32, 128])\n",
      "torch.Size([32, 128, 24, 24])\n",
      "torch.Size([32, 128])\n",
      "torch.Size([32, 128, 24, 24])\n",
      "torch.Size([32, 128])\n",
      "torch.Size([32, 128, 24, 24])\n",
      "torch.Size([32, 128])\n",
      "torch.Size([32, 128, 24, 24])\n",
      "torch.Size([32, 128])\n",
      "torch.Size([32, 128, 24, 24])\n",
      "torch.Size([32, 128])\n",
      "torch.Size([32, 128, 24, 24])\n",
      "torch.Size([32, 128])\n",
      "torch.Size([32, 128, 24, 24])\n",
      "torch.Size([32, 128])\n",
      "torch.Size([32, 128, 24, 24])\n",
      "torch.Size([32, 128])\n",
      "torch.Size([32, 128, 24, 24])\n",
      "torch.Size([32, 128])\n",
      "torch.Size([32, 128, 24, 24])\n",
      "torch.Size([32, 128])\n",
      "torch.Size([32, 128, 24, 24])\n",
      "torch.Size([32, 128])\n",
      "torch.Size([32, 128, 24, 24])\n",
      "torch.Size([32, 128])\n",
      "torch.Size([32, 128, 24, 24])\n",
      "torch.Size([32, 128])\n",
      "torch.Size([32, 128, 24, 24])\n",
      "torch.Size([32, 128])\n",
      "torch.Size([32, 128, 24, 24])\n",
      "torch.Size([32, 128])\n",
      "torch.Size([32, 128, 24, 24])\n",
      "torch.Size([32, 128])\n",
      "torch.Size([32, 128, 24, 24])\n",
      "torch.Size([32, 128])\n",
      "torch.Size([32, 128, 24, 24])\n",
      "torch.Size([32, 128])\n",
      "torch.Size([32, 128, 24, 24])\n",
      "torch.Size([32, 128])\n",
      "torch.Size([32, 128, 24, 24])\n",
      "torch.Size([32, 128])\n",
      "torch.Size([32, 128, 24, 24])\n",
      "torch.Size([32, 128])\n"
     ]
    },
    {
     "ename": "KeyboardInterrupt",
     "evalue": "",
     "output_type": "error",
     "traceback": [
      "\u001b[0;31m---------------------------------------------------------------------------\u001b[0m",
      "\u001b[0;31mKeyboardInterrupt\u001b[0m                         Traceback (most recent call last)",
      "Input \u001b[0;32mIn [26]\u001b[0m, in \u001b[0;36m<cell line: 9>\u001b[0;34m()\u001b[0m\n\u001b[1;32m     14\u001b[0m outputs \u001b[38;5;241m=\u001b[39m model(images)\n\u001b[1;32m     15\u001b[0m loss \u001b[38;5;241m=\u001b[39m criterion(outputs, coords)\n\u001b[0;32m---> 16\u001b[0m \u001b[43mloss\u001b[49m\u001b[38;5;241;43m.\u001b[39;49m\u001b[43mbackward\u001b[49m\u001b[43m(\u001b[49m\u001b[43m)\u001b[49m\n\u001b[1;32m     17\u001b[0m optimizer\u001b[38;5;241m.\u001b[39mstep()\n\u001b[1;32m     18\u001b[0m train_loss \u001b[38;5;241m+\u001b[39m\u001b[38;5;241m=\u001b[39m loss\u001b[38;5;241m.\u001b[39mitem() \u001b[38;5;241m*\u001b[39m images\u001b[38;5;241m.\u001b[39msize(\u001b[38;5;241m0\u001b[39m)\n",
      "File \u001b[0;32m~/anaconda3/envs/venv/lib/python3.8/site-packages/torch/_tensor.py:487\u001b[0m, in \u001b[0;36mTensor.backward\u001b[0;34m(self, gradient, retain_graph, create_graph, inputs)\u001b[0m\n\u001b[1;32m    477\u001b[0m \u001b[38;5;28;01mif\u001b[39;00m has_torch_function_unary(\u001b[38;5;28mself\u001b[39m):\n\u001b[1;32m    478\u001b[0m     \u001b[38;5;28;01mreturn\u001b[39;00m handle_torch_function(\n\u001b[1;32m    479\u001b[0m         Tensor\u001b[38;5;241m.\u001b[39mbackward,\n\u001b[1;32m    480\u001b[0m         (\u001b[38;5;28mself\u001b[39m,),\n\u001b[0;32m   (...)\u001b[0m\n\u001b[1;32m    485\u001b[0m         inputs\u001b[38;5;241m=\u001b[39minputs,\n\u001b[1;32m    486\u001b[0m     )\n\u001b[0;32m--> 487\u001b[0m \u001b[43mtorch\u001b[49m\u001b[38;5;241;43m.\u001b[39;49m\u001b[43mautograd\u001b[49m\u001b[38;5;241;43m.\u001b[39;49m\u001b[43mbackward\u001b[49m\u001b[43m(\u001b[49m\n\u001b[1;32m    488\u001b[0m \u001b[43m    \u001b[49m\u001b[38;5;28;43mself\u001b[39;49m\u001b[43m,\u001b[49m\u001b[43m \u001b[49m\u001b[43mgradient\u001b[49m\u001b[43m,\u001b[49m\u001b[43m \u001b[49m\u001b[43mretain_graph\u001b[49m\u001b[43m,\u001b[49m\u001b[43m \u001b[49m\u001b[43mcreate_graph\u001b[49m\u001b[43m,\u001b[49m\u001b[43m \u001b[49m\u001b[43minputs\u001b[49m\u001b[38;5;241;43m=\u001b[39;49m\u001b[43minputs\u001b[49m\n\u001b[1;32m    489\u001b[0m \u001b[43m\u001b[49m\u001b[43m)\u001b[49m\n",
      "File \u001b[0;32m~/anaconda3/envs/venv/lib/python3.8/site-packages/torch/autograd/__init__.py:200\u001b[0m, in \u001b[0;36mbackward\u001b[0;34m(tensors, grad_tensors, retain_graph, create_graph, grad_variables, inputs)\u001b[0m\n\u001b[1;32m    195\u001b[0m     retain_graph \u001b[38;5;241m=\u001b[39m create_graph\n\u001b[1;32m    197\u001b[0m \u001b[38;5;66;03m# The reason we repeat same the comment below is that\u001b[39;00m\n\u001b[1;32m    198\u001b[0m \u001b[38;5;66;03m# some Python versions print out the first line of a multi-line function\u001b[39;00m\n\u001b[1;32m    199\u001b[0m \u001b[38;5;66;03m# calls in the traceback and some print out the last line\u001b[39;00m\n\u001b[0;32m--> 200\u001b[0m \u001b[43mVariable\u001b[49m\u001b[38;5;241;43m.\u001b[39;49m\u001b[43m_execution_engine\u001b[49m\u001b[38;5;241;43m.\u001b[39;49m\u001b[43mrun_backward\u001b[49m\u001b[43m(\u001b[49m\u001b[43m  \u001b[49m\u001b[38;5;66;43;03m# Calls into the C++ engine to run the backward pass\u001b[39;49;00m\n\u001b[1;32m    201\u001b[0m \u001b[43m    \u001b[49m\u001b[43mtensors\u001b[49m\u001b[43m,\u001b[49m\u001b[43m \u001b[49m\u001b[43mgrad_tensors_\u001b[49m\u001b[43m,\u001b[49m\u001b[43m \u001b[49m\u001b[43mretain_graph\u001b[49m\u001b[43m,\u001b[49m\u001b[43m \u001b[49m\u001b[43mcreate_graph\u001b[49m\u001b[43m,\u001b[49m\u001b[43m \u001b[49m\u001b[43minputs\u001b[49m\u001b[43m,\u001b[49m\n\u001b[1;32m    202\u001b[0m \u001b[43m    \u001b[49m\u001b[43mallow_unreachable\u001b[49m\u001b[38;5;241;43m=\u001b[39;49m\u001b[38;5;28;43;01mTrue\u001b[39;49;00m\u001b[43m,\u001b[49m\u001b[43m \u001b[49m\u001b[43maccumulate_grad\u001b[49m\u001b[38;5;241;43m=\u001b[39;49m\u001b[38;5;28;43;01mTrue\u001b[39;49;00m\u001b[43m)\u001b[49m\n",
      "\u001b[0;31mKeyboardInterrupt\u001b[0m: "
     ]
    }
   ],
   "source": [
    "# Train the model\n",
    "criterion = nn.L1Loss()\n",
    "optimizer = optim.Adam(model.parameters(), lr=0.001)\n",
    "\n",
    "num_epochs = 20\n",
    "train_losses = []\n",
    "test_losses = []\n",
    "\n",
    "for epoch in range(num_epochs):\n",
    "    model.train()\n",
    "    train_loss = 0.0\n",
    "    for images, coords in train_loader:\n",
    "        optimizer.zero_grad()\n",
    "        outputs = model(images)\n",
    "        loss = criterion(outputs, coords)\n",
    "        loss.backward()\n",
    "        optimizer.step()\n",
    "        train_loss += loss.item() * images.size(0)\n",
    "    \n",
    "    train_loss = train_loss / len(train_loader.dataset)\n",
    "    train_losses.append(train_loss)\n",
    "    \n",
    "    model.eval()\n",
    "    test_loss = 0.0\n",
    "    with torch.no_grad():\n",
    "        for images, coords in test_loader:\n",
    "            outputs = model(images)\n",
    "            loss = criterion(outputs, coords)\n",
    "            test_loss += loss.item() * images.size(0)\n",
    "    \n",
    "    test_loss = test_loss / len(test_loader.dataset)\n",
    "    test_losses.append(test_loss)\n",
    "    \n",
    "    print(f'Epoch {epoch+1}/{num_epochs}, Train Loss: {train_loss:.4f}, Test Loss: {test_loss:.4f}')"
   ]
  },
  {
   "cell_type": "markdown",
   "metadata": {},
   "source": [
    "## Plot results from the model"
   ]
  },
  {
   "cell_type": "code",
   "execution_count": null,
   "metadata": {},
   "outputs": [],
   "source": [
    "# 5. Plot the losses\n",
    "plt.figure(figsize=(10,5))\n",
    "plt.plot(train_losses, label='Train Loss')\n",
    "plt.plot(test_losses, label='Test Loss')\n",
    "plt.xlabel('Epoch')\n",
    "plt.ylabel('Loss')\n",
    "plt.legend()\n",
    "plt.show()"
   ]
  }
 ],
 "metadata": {
  "kernelspec": {
   "display_name": "Python [conda env:venv] *",
   "language": "python",
   "name": "conda-env-venv-py"
  },
  "language_info": {
   "codemirror_mode": {
    "name": "ipython",
    "version": 3
   },
   "file_extension": ".py",
   "mimetype": "text/x-python",
   "name": "python",
   "nbconvert_exporter": "python",
   "pygments_lexer": "ipython3",
   "version": "3.8.16"
  }
 },
 "nbformat": 4,
 "nbformat_minor": 2
}
