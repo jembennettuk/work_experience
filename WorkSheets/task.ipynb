{
 "cells": [
  {
   "attachments": {},
   "cell_type": "markdown",
   "metadata": {},
   "source": [
    "# Worksheet: Facial point prediction\n",
    "This sheet is to help you understand loading in a dataset, prprocessing and augmentation of data, modelling and predicting, and using this knowledge for fun!\n",
    "\n",
    "\n",
    "\n",
    "This worksheet was written by Dexter Shepherd, any inquiries please email d.r.shepherd@sussex.ac.uk"
   ]
  },
  {
   "cell_type": "code",
   "execution_count": 2,
   "metadata": {},
   "outputs": [],
   "source": [
    "# First of all we must import and download all the necessary libraries\n",
    "import numpy as np #the python maths library \n",
    "import cv2 #python computer vision library\n",
    "import matplotlib.pyplot as plt #so we can visualise easily"
   ]
  },
  {
   "attachments": {},
   "cell_type": "markdown",
   "metadata": {},
   "source": [
    "## Part A: Understanding the basics\n",
    "You might already be confident with Python, so you will breeze through this. But make sure to complete this section, as you will need to understand the basics of image plotting and numpy to continue...\n",
    "\n",
    "### Numpy\n",
    "Numpy is the maths library for python. It is much more efficient than using lists, and makes it easier to perform mathematical operations across your data\n",
    "#### Arrays"
   ]
  },
  {
   "cell_type": "code",
   "execution_count": 6,
   "metadata": {},
   "outputs": [
    {
     "name": "stdout",
     "output_type": "stream",
     "text": [
      "[0, 0, 0, 0, 0, 0, 0, 0, 0] [0. 0. 0. 0. 0. 0. 0. 0. 0.]\n",
      "[1, 0, 0, 0, 0, 0, 0, 0, 0] [1. 0. 0. 0. 0. 0. 0. 0. 0.]\n",
      "[2, 1, 1, 1, 1, 1, 1, 1, 1] [2. 1. 1. 1. 1. 1. 1. 1. 1.]\n",
      "[1, 1, 1, 1, 1, 1, 1, 1, 1] [1. 1. 1. 1. 1. 1. 1. 1. 1.]\n"
     ]
    }
   ],
   "source": [
    "#lets make an empty array\n",
    "boring_array=[0,0,0,0,0,0,0,0,0]\n",
    "cool_array=np.zeros((9,))\n",
    "\n",
    "print(boring_array,cool_array)\n",
    "\n",
    "#now we want to change the first element to 1\n",
    "boring_array[0]=1\n",
    "cool_array[0]=1\n",
    "print(boring_array,cool_array)\n",
    "\n",
    "#simple right? WHat if we want to add one to all the items in the array\n",
    "for i in range(len(boring_array)):\n",
    "    boring_array[i]+=1\n",
    "cool_array+=1\n",
    "print(boring_array,cool_array)\n",
    "\n",
    "#now you are starting to see the ease of using numpy... lets look at a better example, what if we want to make sure all items above one are capped to one\n",
    "for i in range(len(boring_array)):\n",
    "    if boring_array[i]>1:\n",
    "        boring_array[i]=1\n",
    "cool_array[cool_array>1]=1\n",
    "print(boring_array,cool_array)\n",
    "\n"
   ]
  },
  {
   "attachments": {},
   "cell_type": "markdown",
   "metadata": {},
   "source": [
    "#### Matrices\n",
    "Arrays are one thing, but what about matrices?"
   ]
  }
 ],
 "metadata": {
  "kernelspec": {
   "display_name": "base",
   "language": "python",
   "name": "python3"
  },
  "language_info": {
   "codemirror_mode": {
    "name": "ipython",
    "version": 3
   },
   "file_extension": ".py",
   "mimetype": "text/x-python",
   "name": "python",
   "nbconvert_exporter": "python",
   "pygments_lexer": "ipython3",
   "version": "3.10.8"
  },
  "orig_nbformat": 4
 },
 "nbformat": 4,
 "nbformat_minor": 2
}
